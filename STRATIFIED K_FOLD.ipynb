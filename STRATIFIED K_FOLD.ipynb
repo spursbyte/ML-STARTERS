{
  "nbformat": 4,
  "nbformat_minor": 0,
  "metadata": {
    "colab": {
      "name": "Untitled85.ipynb",
      "provenance": [],
      "authorship_tag": "ABX9TyPXdCtRl9WlD4hIUHxGCEA1",
      "include_colab_link": true
    },
    "kernelspec": {
      "name": "python3",
      "display_name": "Python 3"
    },
    "language_info": {
      "name": "python"
    }
  },
  "cells": [
    {
      "cell_type": "markdown",
      "metadata": {
        "id": "view-in-github",
        "colab_type": "text"
      },
      "source": [
        "<a href=\"https://colab.research.google.com/github/spursbyte/ML-STARTERS/blob/main/STRATIFIED%20K_FOLD.ipynb\" target=\"_parent\"><img src=\"https://colab.research.google.com/assets/colab-badge.svg\" alt=\"Open In Colab\"/></a>"
      ]
    },
    {
      "cell_type": "code",
      "metadata": {
        "id": "JAisEyazGWR4"
      },
      "source": [
        "# import pandas and model_selection module of scikit-learn\n",
        "import pandas as pd\n",
        "from sklearn import model_selection\n",
        "\n",
        "if __name__ == \"__main__\":\n",
        "    # Training data is in a csv file called train.csv\n",
        "    df = pd.read_csv(\"/content/winequality-red.csv\")\n",
        "\n",
        "    # we create a new column called kfold and fill it with -1\n",
        "    df[\"kfold\"] = -1\n",
        "\n",
        "    # the next step is to randomize the rows of the data\n",
        "    df = df.sample(frac=1).reset_index(drop=True)\n",
        "\n",
        "    # fetch targets\n",
        "    y = df.quality.values\n",
        "\n",
        "    # initiate the kfold class from model_selection module\n",
        "    kf = model_selection.StratifiedKFold(n_splits=5)\n",
        "\n",
        "    # fill the new kfold column\n",
        "    for f, (t_, v_) in enumerate(kf.split(X=df, y=y)):\n",
        "        df.loc[v_, 'kfold'] = f\n",
        "\n",
        "    # save the new csv with kfold column\n",
        "    df.to_csv(\"train_folds.csv\", index=False)\n"
      ],
      "execution_count": 2,
      "outputs": []
    }
  ]
}