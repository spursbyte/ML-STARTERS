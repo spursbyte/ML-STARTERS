{
  "nbformat": 4,
  "nbformat_minor": 0,
  "metadata": {
    "colab": {
      "name": "Wine_quality_decision tree.ipynb",
      "provenance": [],
      "authorship_tag": "ABX9TyNoyqG+HqUOGiX9oF8hxJaI",
      "include_colab_link": true
    },
    "kernelspec": {
      "name": "python3",
      "display_name": "Python 3"
    },
    "language_info": {
      "name": "python"
    }
  },
  "cells": [
    {
      "cell_type": "markdown",
      "metadata": {
        "id": "view-in-github",
        "colab_type": "text"
      },
      "source": [
        "<a href=\"https://colab.research.google.com/github/spursbyte/ML-STARTERS/blob/main/Wine_quality_decision_tree.ipynb\" target=\"_parent\"><img src=\"https://colab.research.google.com/assets/colab-badge.svg\" alt=\"Open In Colab\"/></a>"
      ]
    },
    {
      "cell_type": "code",
      "metadata": {
        "id": "2K-s5wdvgYuo"
      },
      "source": [
        "import pandas as pd\n",
        "df = pd.read_csv(\"winequality-red.csv\")"
      ],
      "execution_count": null,
      "outputs": []
    },
    {
      "cell_type": "code",
      "metadata": {
        "colab": {
          "base_uri": "https://localhost:8080/",
          "height": 238
        },
        "id": "MtHioBMrqCVy",
        "outputId": "e6d50a1b-2b8f-492f-8583-fe4797f4e712"
      },
      "source": [
        "df.head()"
      ],
      "execution_count": null,
      "outputs": [
        {
          "output_type": "execute_result",
          "data": {
            "text/html": [
              "<div>\n",
              "<style scoped>\n",
              "    .dataframe tbody tr th:only-of-type {\n",
              "        vertical-align: middle;\n",
              "    }\n",
              "\n",
              "    .dataframe tbody tr th {\n",
              "        vertical-align: top;\n",
              "    }\n",
              "\n",
              "    .dataframe thead th {\n",
              "        text-align: right;\n",
              "    }\n",
              "</style>\n",
              "<table border=\"1\" class=\"dataframe\">\n",
              "  <thead>\n",
              "    <tr style=\"text-align: right;\">\n",
              "      <th></th>\n",
              "      <th>fixed acidity</th>\n",
              "      <th>volatile acidity</th>\n",
              "      <th>citric acid</th>\n",
              "      <th>residual sugar</th>\n",
              "      <th>chlorides</th>\n",
              "      <th>free sulfur dioxide</th>\n",
              "      <th>total sulfur dioxide</th>\n",
              "      <th>density</th>\n",
              "      <th>pH</th>\n",
              "      <th>sulphates</th>\n",
              "      <th>alcohol</th>\n",
              "      <th>quality</th>\n",
              "    </tr>\n",
              "  </thead>\n",
              "  <tbody>\n",
              "    <tr>\n",
              "      <th>0</th>\n",
              "      <td>7.4</td>\n",
              "      <td>0.70</td>\n",
              "      <td>0.00</td>\n",
              "      <td>1.9</td>\n",
              "      <td>0.076</td>\n",
              "      <td>11.0</td>\n",
              "      <td>34.0</td>\n",
              "      <td>0.9978</td>\n",
              "      <td>3.51</td>\n",
              "      <td>0.56</td>\n",
              "      <td>9.4</td>\n",
              "      <td>5</td>\n",
              "    </tr>\n",
              "    <tr>\n",
              "      <th>1</th>\n",
              "      <td>7.8</td>\n",
              "      <td>0.88</td>\n",
              "      <td>0.00</td>\n",
              "      <td>2.6</td>\n",
              "      <td>0.098</td>\n",
              "      <td>25.0</td>\n",
              "      <td>67.0</td>\n",
              "      <td>0.9968</td>\n",
              "      <td>3.20</td>\n",
              "      <td>0.68</td>\n",
              "      <td>9.8</td>\n",
              "      <td>5</td>\n",
              "    </tr>\n",
              "    <tr>\n",
              "      <th>2</th>\n",
              "      <td>7.8</td>\n",
              "      <td>0.76</td>\n",
              "      <td>0.04</td>\n",
              "      <td>2.3</td>\n",
              "      <td>0.092</td>\n",
              "      <td>15.0</td>\n",
              "      <td>54.0</td>\n",
              "      <td>0.9970</td>\n",
              "      <td>3.26</td>\n",
              "      <td>0.65</td>\n",
              "      <td>9.8</td>\n",
              "      <td>5</td>\n",
              "    </tr>\n",
              "    <tr>\n",
              "      <th>3</th>\n",
              "      <td>11.2</td>\n",
              "      <td>0.28</td>\n",
              "      <td>0.56</td>\n",
              "      <td>1.9</td>\n",
              "      <td>0.075</td>\n",
              "      <td>17.0</td>\n",
              "      <td>60.0</td>\n",
              "      <td>0.9980</td>\n",
              "      <td>3.16</td>\n",
              "      <td>0.58</td>\n",
              "      <td>9.8</td>\n",
              "      <td>6</td>\n",
              "    </tr>\n",
              "    <tr>\n",
              "      <th>4</th>\n",
              "      <td>7.4</td>\n",
              "      <td>0.70</td>\n",
              "      <td>0.00</td>\n",
              "      <td>1.9</td>\n",
              "      <td>0.076</td>\n",
              "      <td>11.0</td>\n",
              "      <td>34.0</td>\n",
              "      <td>0.9978</td>\n",
              "      <td>3.51</td>\n",
              "      <td>0.56</td>\n",
              "      <td>9.4</td>\n",
              "      <td>5</td>\n",
              "    </tr>\n",
              "  </tbody>\n",
              "</table>\n",
              "</div>"
            ],
            "text/plain": [
              "   fixed acidity  volatile acidity  citric acid  ...  sulphates  alcohol  quality\n",
              "0            7.4              0.70         0.00  ...       0.56      9.4        5\n",
              "1            7.8              0.88         0.00  ...       0.68      9.8        5\n",
              "2            7.8              0.76         0.04  ...       0.65      9.8        5\n",
              "3           11.2              0.28         0.56  ...       0.58      9.8        6\n",
              "4            7.4              0.70         0.00  ...       0.56      9.4        5\n",
              "\n",
              "[5 rows x 12 columns]"
            ]
          },
          "metadata": {
            "tags": []
          },
          "execution_count": 2
        }
      ]
    },
    {
      "cell_type": "code",
      "metadata": {
        "colab": {
          "base_uri": "https://localhost:8080/"
        },
        "id": "QG0OURQ8r9EH",
        "outputId": "272b8016-9051-42f2-97ab-0634c721a994"
      },
      "source": [
        "df.count"
      ],
      "execution_count": null,
      "outputs": [
        {
          "output_type": "execute_result",
          "data": {
            "text/plain": [
              "<bound method DataFrame.count of       fixed acidity  volatile acidity  citric acid  ...  sulphates  alcohol  quality\n",
              "0               5.7             1.130         0.09  ...       0.48      9.8        1\n",
              "1               5.6             0.540         0.04  ...       0.58     11.4        2\n",
              "2               5.2             0.480         0.04  ...       0.62     12.2        4\n",
              "3               8.7             0.420         0.45  ...       0.77     12.0        3\n",
              "4               6.3             0.470         0.00  ...       0.48     12.3        3\n",
              "...             ...               ...          ...  ...        ...      ...      ...\n",
              "1594           15.5             0.645         0.49  ...       0.74     11.1        2\n",
              "1595            7.0             0.690         0.00  ...       0.60      9.7        3\n",
              "1596            8.1             0.825         0.24  ...       0.77     10.7        3\n",
              "1597            6.8             0.360         0.32  ...       0.55     12.8        4\n",
              "1598           10.4             0.260         0.48  ...       0.87     10.9        3\n",
              "\n",
              "[1599 rows x 12 columns]>"
            ]
          },
          "metadata": {
            "tags": []
          },
          "execution_count": 12
        }
      ]
    },
    {
      "cell_type": "code",
      "metadata": {
        "id": "kls43f3-pIwG"
      },
      "source": [
        "# a mapping dictionary that maps the quality values from 0 to 5\n",
        "quality_mapping = {\n",
        "    3: 0,\n",
        "    4: 1,\n",
        "    5: 2,\n",
        "    6: 3,\n",
        "    7: 4,\n",
        "    8: 5\n",
        "}\n",
        "\n",
        "# you can use the map function of pandas with\n",
        "# any dictionary to convert the values in a given\n",
        "# column to values in the dictionary\n",
        "df.loc[:, \"quality\"] = df.quality.map(quality_mapping)"
      ],
      "execution_count": null,
      "outputs": []
    },
    {
      "cell_type": "code",
      "metadata": {
        "colab": {
          "base_uri": "https://localhost:8080/",
          "height": 353
        },
        "id": "FihXsYePxjJS",
        "outputId": "4dc62a40-a485-4d4f-e063-d1594336d8b5"
      },
      "source": [
        "# import scikit-learn tree and metrics\n",
        "from sklearn import tree\n",
        "from sklearn import metrics\n",
        "\n",
        "# import matplotlib and seaborn\n",
        "# for plotting\n",
        "import matplotlib\n",
        "import matplotlib.pyplot as plt\n",
        "import seaborn as sns\n",
        "\n",
        "# this is our global size of label text\n",
        "# on the plots\n",
        "matplotlib.rc('xtick', labelsize=20) \n",
        "matplotlib.rc('ytick', labelsize=20) \n",
        "\n",
        "# This line ensures that the plot is displayed\n",
        "# inside the notebook\n",
        "%matplotlib inline \n",
        "\n",
        "# initialize lists to store accuracies\n",
        "# for training and test data\n",
        "# we start with 50% accuracy\n",
        "train_accuracies = [0.5]\n",
        "test_accuracies = [0.5]\n",
        "\n",
        "# iterate over a few depth values\n",
        "for depth in range(1, 25): \n",
        "    # init the model \n",
        "    clf = tree.DecisionTreeClassifier(max_depth=depth)\n",
        "\n",
        "    # columns/features for training\n",
        "    # note that, this can be done outside \n",
        "    # the loop\n",
        "    cols = [\n",
        "        'fixed acidity', \n",
        "        'volatile acidity',\n",
        "        'citric acid', \n",
        "        'residual sugar',\n",
        "        'chlorides',\n",
        "        'free sulfur dioxide', \n",
        "        'total sulfur dioxide',\n",
        "        'density',\n",
        "        'pH', \n",
        "        'sulphates', \n",
        "          'alcohol'\n",
        "        ]\n",
        "\n",
        "    # fit the model on given features\n",
        "    clf.fit(df_train[cols], df_train.quality)\n",
        "\n",
        "    # create training & test predictions\n",
        "    train_predictions = clf.predict(df_train[cols])\n",
        "    test_predictions = clf.predict(df_test[cols])\n",
        "\n",
        "    # calculate training & test accuracies\n",
        "    train_accuracy = metrics.accuracy_score(\n",
        "        df_train.quality, train_predictions\n",
        "    )\n",
        "    test_accuracy = metrics.accuracy_score(\n",
        "        df_test.quality, test_predictions\n",
        "    )\n",
        "    \n",
        "    # append accuracies\n",
        "    train_accuracies.append(train_accuracy)\n",
        "    test_accuracies.append(test_accuracy) \n",
        "\n",
        "\n",
        "# create two plots using matplotlib\n",
        "# and seaborn\n",
        "plt.figure(figsize=(10, 5))\n",
        "sns.set_style(\"whitegrid\")\n",
        "plt.plot(train_accuracies, label=\"train accuracy\")\n",
        "plt.plot(test_accuracies, label=\"test accuracy\")\n",
        "plt.legend(loc=\"upper left\", prop={'size': 15}) \n",
        "plt.xticks(range(0, 26, 5)) \n",
        "plt.xlabel(\"max_depth\", size=20)\n",
        "plt.ylabel(\"accuracy\", size=20)\n",
        "plt.show()"
      ],
      "execution_count": 25,
      "outputs": [
        {
          "output_type": "display_data",
          "data": {
            "image/png": "[encoded data removed]",
            "text/plain": [
              "<Figure size 720x360 with 1 Axes>"
            ]
          },
          "metadata": {
            "tags": [],
            "needs_background": "light"
          }
        }
      ]
    },
    {
      "cell_type": "code",
      "metadata": {
        "colab": {
          "base_uri": "https://localhost:8080/",
          "height": 238
        },
        "id": "DAkkaukpqJPB",
        "outputId": "cc907ac8-9467-49b3-b1b0-3e512862abea"
      },
      "source": [
        "df.head()"
      ],
      "execution_count": null,
      "outputs": [
        {
          "output_type": "execute_result",
          "data": {
            "text/html": [
              "<div>\n",
              "<style scoped>\n",
              "    .dataframe tbody tr th:only-of-type {\n",
              "        vertical-align: middle;\n",
              "    }\n",
              "\n",
              "    .dataframe tbody tr th {\n",
              "        vertical-align: top;\n",
              "    }\n",
              "\n",
              "    .dataframe thead th {\n",
              "        text-align: right;\n",
              "    }\n",
              "</style>\n",
              "<table border=\"1\" class=\"dataframe\">\n",
              "  <thead>\n",
              "    <tr style=\"text-align: right;\">\n",
              "      <th></th>\n",
              "      <th>fixed acidity</th>\n",
              "      <th>volatile acidity</th>\n",
              "      <th>citric acid</th>\n",
              "      <th>residual sugar</th>\n",
              "      <th>chlorides</th>\n",
              "      <th>free sulfur dioxide</th>\n",
              "      <th>total sulfur dioxide</th>\n",
              "      <th>density</th>\n",
              "      <th>pH</th>\n",
              "      <th>sulphates</th>\n",
              "      <th>alcohol</th>\n",
              "      <th>quality</th>\n",
              "    </tr>\n",
              "  </thead>\n",
              "  <tbody>\n",
              "    <tr>\n",
              "      <th>0</th>\n",
              "      <td>7.4</td>\n",
              "      <td>0.70</td>\n",
              "      <td>0.00</td>\n",
              "      <td>1.9</td>\n",
              "      <td>0.076</td>\n",
              "      <td>11.0</td>\n",
              "      <td>34.0</td>\n",
              "      <td>0.9978</td>\n",
              "      <td>3.51</td>\n",
              "      <td>0.56</td>\n",
              "      <td>9.4</td>\n",
              "      <td>2</td>\n",
              "    </tr>\n",
              "    <tr>\n",
              "      <th>1</th>\n",
              "      <td>7.8</td>\n",
              "      <td>0.88</td>\n",
              "      <td>0.00</td>\n",
              "      <td>2.6</td>\n",
              "      <td>0.098</td>\n",
              "      <td>25.0</td>\n",
              "      <td>67.0</td>\n",
              "      <td>0.9968</td>\n",
              "      <td>3.20</td>\n",
              "      <td>0.68</td>\n",
              "      <td>9.8</td>\n",
              "      <td>2</td>\n",
              "    </tr>\n",
              "    <tr>\n",
              "      <th>2</th>\n",
              "      <td>7.8</td>\n",
              "      <td>0.76</td>\n",
              "      <td>0.04</td>\n",
              "      <td>2.3</td>\n",
              "      <td>0.092</td>\n",
              "      <td>15.0</td>\n",
              "      <td>54.0</td>\n",
              "      <td>0.9970</td>\n",
              "      <td>3.26</td>\n",
              "      <td>0.65</td>\n",
              "      <td>9.8</td>\n",
              "      <td>2</td>\n",
              "    </tr>\n",
              "    <tr>\n",
              "      <th>3</th>\n",
              "      <td>11.2</td>\n",
              "      <td>0.28</td>\n",
              "      <td>0.56</td>\n",
              "      <td>1.9</td>\n",
              "      <td>0.075</td>\n",
              "      <td>17.0</td>\n",
              "      <td>60.0</td>\n",
              "      <td>0.9980</td>\n",
              "      <td>3.16</td>\n",
              "      <td>0.58</td>\n",
              "      <td>9.8</td>\n",
              "      <td>3</td>\n",
              "    </tr>\n",
              "    <tr>\n",
              "      <th>4</th>\n",
              "      <td>7.4</td>\n",
              "      <td>0.70</td>\n",
              "      <td>0.00</td>\n",
              "      <td>1.9</td>\n",
              "      <td>0.076</td>\n",
              "      <td>11.0</td>\n",
              "      <td>34.0</td>\n",
              "      <td>0.9978</td>\n",
              "      <td>3.51</td>\n",
              "      <td>0.56</td>\n",
              "      <td>9.4</td>\n",
              "      <td>2</td>\n",
              "    </tr>\n",
              "  </tbody>\n",
              "</table>\n",
              "</div>"
            ],
            "text/plain": [
              "   fixed acidity  volatile acidity  citric acid  ...  sulphates  alcohol  quality\n",
              "0            7.4              0.70         0.00  ...       0.56      9.4        2\n",
              "1            7.8              0.88         0.00  ...       0.68      9.8        2\n",
              "2            7.8              0.76         0.04  ...       0.65      9.8        2\n",
              "3           11.2              0.28         0.56  ...       0.58      9.8        3\n",
              "4            7.4              0.70         0.00  ...       0.56      9.4        2\n",
              "\n",
              "[5 rows x 12 columns]"
            ]
          },
          "metadata": {
            "tags": []
          },
          "execution_count": 4
        }
      ]
    },
    {
      "cell_type": "code",
      "metadata": {
        "id": "qRGN9KRLqNKS"
      },
      "source": [
        "# use sample with frac=1 to shuffle the dataframe\n",
        "# we reset the indices since they change after\n",
        "# shuffling the dataframe\n",
        "df = df.sample(frac=1).reset_index(drop=True)\n",
        "\n",
        "# top 1000 rows are selected\n",
        "# for training\n",
        "df_train = df.head(1000)\n",
        "\n",
        "# bottom 599 values are selected\n",
        "# for testing/validation\n",
        "df_test = df.tail(599)\n"
      ],
      "execution_count": null,
      "outputs": []
    },
    {
      "cell_type": "code",
      "metadata": {
        "id": "cZGkMfHaqska"
      },
      "source": [
        "from sklearn import tree\n",
        "from sklearn import metrics\n",
        "\n",
        "# initialize decision tree classifier class\n",
        "# with a max_depth of 3\n",
        "clf = tree.DecisionTreeClassifier(max_depth=3)\n",
        "\n",
        "# choose the columns you want to train on\n",
        "# these are the features for the model\n",
        "cols = ['fixed acidity', \n",
        "        'volatile acidity', \n",
        "        'citric acid',\n",
        "        'residual sugar',\n",
        "        'chlorides',\n",
        "        'free sulfur dioxide',\n",
        "        'total sulfur dioxide',\n",
        "        'density',\n",
        "        'pH',\n",
        "        'sulphates',\n",
        "        'alcohol']"
      ],
      "execution_count": null,
      "outputs": []
    },
    {
      "cell_type": "code",
      "metadata": {
        "colab": {
          "base_uri": "https://localhost:8080/"
        },
        "id": "hqTsRfjeq-kI",
        "outputId": "5413d70f-4ff8-450a-a272-d91a5ba0a694"
      },
      "source": [
        "# train the model on the provided features\n",
        "# and mapped quality from before\n",
        "clf.fit(df_train[cols], df_train.quality)\n"
      ],
      "execution_count": null,
      "outputs": [
        {
          "output_type": "execute_result",
          "data": {
            "text/plain": [
              "DecisionTreeClassifier(ccp_alpha=0.0, class_weight=None, criterion='gini',\n",
              "                       max_depth=3, max_features=None, max_leaf_nodes=None,\n",
              "                       min_impurity_decrease=0.0, min_impurity_split=None,\n",
              "                       min_samples_leaf=1, min_samples_split=2,\n",
              "                       min_weight_fraction_leaf=0.0, presort='deprecated',\n",
              "                       random_state=None, splitter='best')"
            ]
          },
          "metadata": {
            "tags": []
          },
          "execution_count": 23
        }
      ]
    },
    {
      "cell_type": "code",
      "metadata": {
        "id": "VIYnD1C2tHgv"
      },
      "source": [
        "# generate predictions on the training set\n",
        "train_predictions = clf.predict(df_train[cols])\n",
        "\n",
        "# generate predictions on the test set\n",
        "test_predictions = clf.predict(df_test[cols])\n",
        "\n",
        "# calculate the accuracy of predictions on\n",
        "# training data set\n",
        "train_accuracy = metrics.accuracy_score(\n",
        "    df_train.quality, train_predictions\n",
        ")\n",
        "\n",
        "# calculate the accuracy of predictions on\n",
        "# test data set\n",
        "test_accuracy = metrics.accuracy_score(\n",
        "    df_test.quality, test_predictions\n",
        ")\n"
      ],
      "execution_count": null,
      "outputs": []
    },
    {
      "cell_type": "code",
      "metadata": {
        "id": "9RLnnGrDtKV4"
      },
      "source": [
        ""
      ],
      "execution_count": null,
      "outputs": []
    }
  ]
}